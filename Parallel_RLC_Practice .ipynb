{
 "cells": [
  {
   "cell_type": "code",
   "execution_count": 1,
   "metadata": {},
   "outputs": [
    {
     "name": "stdout",
     "output_type": "stream",
     "text": [
      "Author        : sm626967\n",
      "Python        : 3.7.4 \n",
      "NumPy         : 1.18.1\n",
      "Encoding      : utf-8\n",
      "Timestamp     : 1594522684.4791074\n"
     ]
    }
   ],
   "source": [
    "%run ./py_templates/1_Boilerplate_numeric.py"
   ]
  },
  {
   "cell_type": "markdown",
   "metadata": {},
   "source": [
    "## Example 1. "
   ]
  },
  {
   "cell_type": "code",
   "execution_count": 2,
   "metadata": {},
   "outputs": [],
   "source": [
    "# Start with problem statement.  The following is given:\n",
    "\n",
    "Egen=100+0j\n",
    "R1=100.0\n",
    "XL=1j*200.0\n",
    "XC=-1j*300.0"
   ]
  },
  {
   "cell_type": "code",
   "execution_count": 3,
   "metadata": {},
   "outputs": [],
   "source": [
    "# Calculate all currents.  Use Ohm's Law only.\n",
    "IR=Egen/R1\n",
    "IL=Egen/XL\n",
    "IC=Egen/XC\n",
    "I_line=IR+IL+IC"
   ]
  },
  {
   "cell_type": "code",
   "execution_count": 4,
   "metadata": {},
   "outputs": [],
   "source": [
    "ZT=np.reciprocal(np.reciprocal(R1)+np.reciprocal(XL)+np.reciprocal(XC))"
   ]
  },
  {
   "cell_type": "code",
   "execution_count": 5,
   "metadata": {},
   "outputs": [],
   "source": [
    "# Convert all answers to polar form for final step ...\n",
    "IR_=R2P(IR)\n",
    "IL_=R2P(IL)\n",
    "IC_=R2P(IC)\n",
    "I_line_=R2P(I_line)\n",
    "ZT_=R2P(ZT)"
   ]
  },
  {
   "cell_type": "code",
   "execution_count": 6,
   "metadata": {},
   "outputs": [
    {
     "name": "stdout",
     "output_type": "stream",
     "text": [
      "ZT             : 98.639392 Ω ∠ 9.462 °\n",
      "IL             : 0.500000 A ∠ -90.000 °\n",
      "IR             : 1.000000 A ∠ 0.000 °\n",
      "IC             : 0.333333 A ∠ 90.000 °\n",
      "IT(branch sum) : 1.013794 A ∠ -9.462 °\n"
     ]
    }
   ],
   "source": [
    "print(\"ZT             :\",'{0:.6f}'.format(ZT_[0]),\"\\u03a9 \\u2220\", '{0:.3f}'.format(ZT_[1]),\"\\u00b0\")\n",
    "print(\"IL             :\",'{0:.6f}'.format(IL_[0]),\"A \\u2220\", '{0:.3f}'.format(IL_[1]),\"\\u00b0\")\n",
    "print(\"IR             :\",'{0:.6f}'.format(IR_[0]),\"A \\u2220\", '{0:.3f}'.format(IR_[1]),\"\\u00b0\")\n",
    "print(\"IC             :\",'{0:.6f}'.format(IC_[0]),\"A \\u2220\", '{0:.3f}'.format(IC_[1]),\"\\u00b0\")\n",
    "print(\"IT(branch sum) :\",'{0:.6f}'.format(I_line_[0]),\"A \\u2220\", '{0:.3f}'.format(I_line_[1]),\"\\u00b0\")"
   ]
  },
  {
   "cell_type": "markdown",
   "metadata": {},
   "source": [
    "Check I_line against Ohm's Law calculation:"
   ]
  },
  {
   "cell_type": "code",
   "execution_count": 7,
   "metadata": {},
   "outputs": [
    {
     "name": "stdout",
     "output_type": "stream",
     "text": [
      "IT(Ohm's law)  : 1.013794 A ∠ -9.462 °\n"
     ]
    }
   ],
   "source": [
    "IT=Egen/ZT\n",
    "IT_=R2P(IT)\n",
    "print(\"IT(Ohm's law)  :\",'{0:.6f}'.format(IT_[0]),\"A \\u2220\", '{0:.3f}'.format(IT_[1]),\"\\u00b0\")"
   ]
  },
  {
   "cell_type": "markdown",
   "metadata": {},
   "source": [
    "Seems to match pretty well, but this type of problem is pretty trivial. "
   ]
  },
  {
   "cell_type": "markdown",
   "metadata": {},
   "source": [
    "What about if there is information missing?"
   ]
  },
  {
   "cell_type": "markdown",
   "metadata": {},
   "source": [
    "### Problem 22"
   ]
  },
  {
   "cell_type": "code",
   "execution_count": 8,
   "metadata": {},
   "outputs": [],
   "source": [
    "ZT=P2R(100.0,30.0)\n",
    "XC=-1j*100.0\n",
    "XC_=R2P(XC)"
   ]
  },
  {
   "cell_type": "markdown",
   "metadata": {},
   "source": [
    "But we don't know what $R_1$ is or what $X_L$ is."
   ]
  },
  {
   "cell_type": "markdown",
   "metadata": {},
   "source": [
    "Ohm's Law will cause everything to scale.  Egen isn't given but we can set it to a value and it will scale  This will be demonstrated later..."
   ]
  },
  {
   "cell_type": "code",
   "execution_count": 9,
   "metadata": {},
   "outputs": [
    {
     "name": "stdout",
     "output_type": "stream",
     "text": [
      "I_line: 0.008660-0.005000j.\n",
      "I_line: 0.010000 A ∠ -30.000 °\n"
     ]
    }
   ],
   "source": [
    "Egen=1.0\n",
    "I_line=Egen/ZT\n",
    "I_line_=R2P(I_line)\n",
    "print(\"I_line: \"'{0:.6f}.'.format(I_line))\n",
    "print(\"I_line:\",'{0:.6f}'.format(I_line_[0]),\"A \\u2220\", '{0:.3f}'.format(I_line_[1]),\"\\u00b0\")"
   ]
  },
  {
   "cell_type": "markdown",
   "metadata": {},
   "source": [
    "It's easy to calculate $I_C$ ..."
   ]
  },
  {
   "cell_type": "code",
   "execution_count": 10,
   "metadata": {},
   "outputs": [
    {
     "name": "stdout",
     "output_type": "stream",
     "text": [
      "I_line: 0.010000 A ∠ 90.000 °\n"
     ]
    }
   ],
   "source": [
    "IC=Egen/XC\n",
    "IC_=R2P(IC)\n",
    "print(\"IC:\",'{0:.6f}'.format(IC_[0]),\"A \\u2220\", '{0:.3f}'.format(IC_[1]),\"\\u00b0\")"
   ]
  },
  {
   "cell_type": "markdown",
   "metadata": {},
   "source": [
    "Now, the portions of resistive and reactive current are contained within this I_line value listed in rectangular form above. But I will only use the real part and solve for the inductive current using nothing but subtraction.  We'll have to keep it all in rectangular form when we do so. "
   ]
  },
  {
   "cell_type": "code",
   "execution_count": 11,
   "metadata": {},
   "outputs": [
    {
     "name": "stdout",
     "output_type": "stream",
     "text": [
      "Resistive Current: 8.660254e-03. A\n"
     ]
    }
   ],
   "source": [
    "print(\"Resistive Current: \"'{0:.6e}.'.format(I_line.real),\"A\")"
   ]
  },
  {
   "cell_type": "markdown",
   "metadata": {},
   "source": [
    "So, we know $I_C$ and $I_R$.  Easy to calculate $I_L$ ..."
   ]
  },
  {
   "cell_type": "code",
   "execution_count": 12,
   "metadata": {},
   "outputs": [],
   "source": [
    "IL=I_line-IC-I_line.real # NB!  keep all values in rectangular form!\n",
    "XL=Egen/IL\n",
    "XL_=R2P(XL)"
   ]
  },
  {
   "cell_type": "markdown",
   "metadata": {},
   "source": [
    "Now, knowing this we can calculate the values of $X_L$ and $R_1$"
   ]
  },
  {
   "cell_type": "code",
   "execution_count": 13,
   "metadata": {},
   "outputs": [
    {
     "name": "stdout",
     "output_type": "stream",
     "text": [
      "R1: 115.470054 Ω ∠ 0.000 °\n",
      "XL: 66.666667 Ω ∠ 90.000 °\n"
     ]
    }
   ],
   "source": [
    "R1=(Egen/I_line.real)\n",
    "R1_=R2P(R1)\n",
    "XL_=R2P(XL)\n",
    "print(\"R1:\",'{0:.6f}'.format(R1_[0]),\"\\u03a9 \\u2220\", '{0:.3f}'.format(R1_[1]),\"\\u00b0\")\n",
    "print(\"XL:\",'{0:.6f}'.format(XL_[0]),\"\\u03a9 \\u2220\", '{0:.3f}'.format(XL_[1]),\"\\u00b0\")"
   ]
  },
  {
   "cell_type": "markdown",
   "metadata": {},
   "source": [
    "We can verify this:"
   ]
  },
  {
   "cell_type": "code",
   "execution_count": 14,
   "metadata": {},
   "outputs": [
    {
     "name": "stdout",
     "output_type": "stream",
     "text": [
      "ZT(check): 100.000000 Ω ∠ 30.000 °\n"
     ]
    }
   ],
   "source": [
    "ZT_check=np.reciprocal(np.reciprocal(XL)+np.reciprocal(XC)+np.reciprocal(R1))\n",
    "ZT_check_=R2P(ZT_check)\n",
    "print(\"ZT(check):\",'{0:.6f}'.format(ZT_check_[0]),\"\\u03a9 \\u2220\", '{0:.3f}'.format(ZT_check_[1]),\"\\u00b0\")"
   ]
  },
  {
   "cell_type": "markdown",
   "metadata": {},
   "source": [
    "Which is what we started with. "
   ]
  },
  {
   "cell_type": "markdown",
   "metadata": {},
   "source": [
    "But I'd like to point out that I literally <b><code>made up</code></b> my value for E_gen.  This is because Ohm's law is a linear equation and it scales. Let's do something odd:"
   ]
  },
  {
   "cell_type": "code",
   "execution_count": 15,
   "metadata": {},
   "outputs": [],
   "source": [
    "# Setup as before ...\n",
    "\n",
    "ZT=P2R(100.0,30.0)\n",
    "XC=-1j*100.0\n",
    "XC_=R2P(XC)"
   ]
  },
  {
   "cell_type": "code",
   "execution_count": 16,
   "metadata": {},
   "outputs": [
    {
     "name": "stdout",
     "output_type": "stream",
     "text": [
      "R1: 115.470054 Ω ∠ 0.000 °\n",
      "XL: 66.666667 Ω ∠ 90.000 °\n",
      "ZT(check): 100.000000 Ω ∠ 30.000 °\n"
     ]
    }
   ],
   "source": [
    "# Do something completely goofy: set Egen=π  (what?)\n",
    "\n",
    "π=float(pi)\n",
    "Egen=π\n",
    "I_line=Egen/ZT\n",
    "I_line_=R2P(I_line)\n",
    "IC=Egen/XC\n",
    "IC_=R2P(IC)\n",
    "IL=I_line-IC-I_line.real # NB!  keep all values in rectangular form!\n",
    "XL=Egen/IL\n",
    "XL_=R2P(XL)\n",
    "R1=(Egen/I_line.real)\n",
    "R1_=R2P(R1)\n",
    "XL_=R2P(XL)\n",
    "ZT_check=np.reciprocal(np.reciprocal(XL)+np.reciprocal(XC)+np.reciprocal(R1))\n",
    "ZT_check_=R2P(ZT_check)\n",
    "print(\"R1:\",'{0:.6f}'.format(R1_[0]),\"\\u03a9 \\u2220\", '{0:.3f}'.format(R1_[1]),\"\\u00b0\")\n",
    "print(\"XL:\",'{0:.6f}'.format(XL_[0]),\"\\u03a9 \\u2220\", '{0:.3f}'.format(XL_[1]),\"\\u00b0\")\n",
    "print(\"ZT(check):\",'{0:.6f}'.format(ZT_check_[0]),\"\\u03a9 \\u2220\", '{0:.3f}'.format(ZT_check_[1]),\"\\u00b0\")"
   ]
  },
  {
   "cell_type": "markdown",
   "metadata": {},
   "source": [
    "Same values for results.  Arbitrarily chosen Egen value though, and because of the nature of Ohm's Law will work every time."
   ]
  }
 ],
 "metadata": {
  "kernelspec": {
   "display_name": "Python 3",
   "language": "python",
   "name": "python3"
  },
  "language_info": {
   "codemirror_mode": {
    "name": "ipython",
    "version": 3
   },
   "file_extension": ".py",
   "mimetype": "text/x-python",
   "name": "python",
   "nbconvert_exporter": "python",
   "pygments_lexer": "ipython3",
   "version": "3.7.4"
  }
 },
 "nbformat": 4,
 "nbformat_minor": 4
}
