{
 "cells": [
  {
   "cell_type": "code",
   "execution_count": 1,
   "metadata": {},
   "outputs": [
    {
     "name": "stdout",
     "output_type": "stream",
     "text": [
      "Author        : sm626967\n",
      "Python        : 3.7.4 \n",
      "NumPy         : 1.18.1\n",
      "Encoding      : utf-8\n",
      "Timestamp     : 1594400886.922547\n"
     ]
    }
   ],
   "source": [
    "%run ./py_templates/1_Boilerplate_numeric.py"
   ]
  },
  {
   "cell_type": "markdown",
   "metadata": {},
   "source": [
    "## Scenario 1: neglect winding resistance of coil ... Taken from Example 13-17, page 595 of text"
   ]
  },
  {
   "cell_type": "code",
   "execution_count": 2,
   "metadata": {},
   "outputs": [],
   "source": [
    "egen=2.0+1j*0\n",
    "L=680.0E-6\n",
    "C=180.0E-12"
   ]
  },
  {
   "cell_type": "code",
   "execution_count": 3,
   "metadata": {},
   "outputs": [],
   "source": [
    "fr=np.reciprocal(2*pi*sqrt(L*C))\n",
    "ω=2*pi*fr"
   ]
  },
  {
   "cell_type": "code",
   "execution_count": 4,
   "metadata": {},
   "outputs": [],
   "source": [
    "XL=(ω*L)*1j\n",
    "XC=np.reciprocal(ω*C)*-1j"
   ]
  },
  {
   "cell_type": "code",
   "execution_count": 5,
   "metadata": {},
   "outputs": [],
   "source": [
    "BL=reciprocal(XL)\n",
    "BC=reciprocal(XC)"
   ]
  },
  {
   "cell_type": "code",
   "execution_count": 6,
   "metadata": {},
   "outputs": [],
   "source": [
    "YT=BL+BC\n",
    "ZT=reciprocal(YT)\n",
    "IT=egen/ZT"
   ]
  },
  {
   "cell_type": "code",
   "execution_count": 7,
   "metadata": {},
   "outputs": [],
   "source": [
    "IL=egen/XL\n",
    "IC=egen/XC\n",
    "IT_branch_sum=IL+IC"
   ]
  },
  {
   "cell_type": "markdown",
   "metadata": {},
   "source": [
    "### As a final step, convert all rectangular values to polar ones for display and comparison to simulation and/or bench ..."
   ]
  },
  {
   "cell_type": "code",
   "execution_count": 8,
   "metadata": {},
   "outputs": [],
   "source": [
    "XL_=R2P(XL)\n",
    "XC_=R2P(XC)\n",
    "BL_=R2P(BL)\n",
    "BC_=R2P(BC)\n",
    "YT_=R2P(YT)\n",
    "ZT_=R2P(ZT)\n",
    "IL_=R2P(IL)\n",
    "IC_=R2P(IC)\n",
    "IT_=R2P(IT)\n",
    "IT_branch_sum_=R2P(IT_branch_sum)"
   ]
  },
  {
   "cell_type": "code",
   "execution_count": 9,
   "metadata": {},
   "outputs": [
    {
     "name": "stdout",
     "output_type": "stream",
     "text": [
      "XL             : 1943.650632  Ω ∠ 90.000 °\n",
      "XC             : 1943.650632  Ω ∠ -90.000 °\n",
      "BL             : 5.144958e-04 S ∠ -90.000 °\n",
      "BC             : 5.144958e-04 S ∠ 90.000 °\n",
      "YT             : 1.084202e-19 S ∠ 90.000 °\n",
      "ZT             : 9.223372e+18 Ω ∠ -90.000 °\n",
      "IL             : 1.028992e-03 A ∠ -90.000 °\n",
      "IC             : 1.028992e-03 A ∠ 90.000 °\n",
      "IT(Ohm's law)  : 2.168404e-19 A ∠ 90.000 °\n",
      "IT(branch sum) : 2.168404e-19 A ∠ 90.000 °\n"
     ]
    }
   ],
   "source": [
    "print(\"XL             :\",'{0:.6f}'.format(XL_[0]),\" \\u03a9 \\u2220\", '{0:.3f}'.format(XL_[1]),\"\\u00b0\")\n",
    "print(\"XC             :\",'{0:.6f}'.format(XC_[0]),\" \\u03a9 \\u2220\", '{0:.3f}'.format(XC_[1]),\"\\u00b0\")\n",
    "print(\"BL             :\",'{0:.6e}'.format(BL_[0]),\"S \\u2220\", '{0:.3f}'.format(BL_[1]),\"\\u00b0\")\n",
    "print(\"BC             :\",'{0:.6e}'.format(BC_[0]),\"S \\u2220\", '{0:.3f}'.format(BC_[1]),\"\\u00b0\")\n",
    "print(\"YT             :\",'{0:.6e}'.format(YT_[0]),\"S \\u2220\", '{0:.3f}'.format(YT_[1]),\"\\u00b0\")\n",
    "print(\"ZT             :\",'{0:.6e}'.format(ZT_[0]),\"\\u03a9 \\u2220\", '{0:.3f}'.format(ZT_[1]),\"\\u00b0\")\n",
    "print(\"IL             :\",'{0:.6e}'.format(IL_[0]),\"A \\u2220\", '{0:.3f}'.format(IL_[1]),\"\\u00b0\")\n",
    "print(\"IC             :\",'{0:.6e}'.format(IC_[0]),\"A \\u2220\", '{0:.3f}'.format(IC_[1]),\"\\u00b0\")\n",
    "print(\"IT(Ohm's law)  :\",'{0:.6e}'.format(IT_[0]),\"A \\u2220\", '{0:.3f}'.format(IT_[1]),\"\\u00b0\")\n",
    "print(\"IT(branch sum) :\",'{0:.6e}'.format(IT_branch_sum_[0]),\"A \\u2220\", '{0:.3f}'.format(IT_branch_sum_[1]),\"\\u00b0\")"
   ]
  },
  {
   "cell_type": "markdown",
   "metadata": {},
   "source": [
    "### NB!  The foregoing will never occur.  It is an idealization for the purpose of calculation only.  In actual fact, the inductor will have winding resistance..."
   ]
  },
  {
   "cell_type": "markdown",
   "metadata": {},
   "source": [
    "## Scenario 2: include winding resistance of coil ... Taken from Example 13-17, page 595 of text"
   ]
  },
  {
   "cell_type": "code",
   "execution_count": 10,
   "metadata": {},
   "outputs": [],
   "source": [
    "XL=(ω*L)*1j\n",
    "XC=np.reciprocal(ω*C)*-1j\n",
    "RW=10.0\n",
    "ZL=RW+XL"
   ]
  },
  {
   "cell_type": "code",
   "execution_count": 11,
   "metadata": {},
   "outputs": [],
   "source": [
    "BL=reciprocal(ZL)\n",
    "BC=reciprocal(XC)"
   ]
  },
  {
   "cell_type": "code",
   "execution_count": 12,
   "metadata": {},
   "outputs": [],
   "source": [
    "YT=BL+BC\n",
    "ZT=reciprocal(YT)\n",
    "IT=egen/ZT"
   ]
  },
  {
   "cell_type": "code",
   "execution_count": 13,
   "metadata": {},
   "outputs": [],
   "source": [
    "IL=egen/ZL\n",
    "IC=egen/XC\n",
    "IT_branch_sum=IL+IC"
   ]
  },
  {
   "cell_type": "markdown",
   "metadata": {},
   "source": [
    "### As a final step, convert all rectangular values to polar ones for display and comparison to simulation and/or bench ..."
   ]
  },
  {
   "cell_type": "code",
   "execution_count": 14,
   "metadata": {},
   "outputs": [],
   "source": [
    "XL_=R2P(ZL)\n",
    "XC_=R2P(XC)\n",
    "BL_=R2P(BL)\n",
    "BC_=R2P(BC)\n",
    "YT_=R2P(YT)\n",
    "ZT_=R2P(ZT)\n",
    "IL_=R2P(IL)\n",
    "IC_=R2P(IC)\n",
    "IT_=R2P(IT)\n",
    "IT_branch_sum_=R2P(IT_branch_sum)"
   ]
  },
  {
   "cell_type": "code",
   "execution_count": 15,
   "metadata": {},
   "outputs": [
    {
     "name": "stdout",
     "output_type": "stream",
     "text": [
      "XL             : 1943.676356  Ω ∠ 89.705 °\n",
      "XC             : 1943.650632  Ω ∠ -90.000 °\n",
      "BL             : 5.144889e-04 S ∠ -89.705 °\n",
      "BC             : 5.144958e-04 S ∠ 90.000 °\n",
      "YT             : 2.647024e-06 S ∠ 0.295 °\n",
      "ZT             : 3.777828e+05 Ω ∠ -0.295 °\n",
      "IL             : 1.028978e-03 A ∠ -89.705 °\n",
      "IC             : 1.028992e-03 A ∠ 90.000 °\n",
      "IT(Ohm's law)  : 5.294048e-06 A ∠ 0.295 °\n",
      "IT(branch sum) : 5.294048e-06 A ∠ 0.295 °\n"
     ]
    }
   ],
   "source": [
    "print(\"XL             :\",'{0:.6f}'.format(XL_[0]),\" \\u03a9 \\u2220\", '{0:.3f}'.format(XL_[1]),\"\\u00b0\")\n",
    "print(\"XC             :\",'{0:.6f}'.format(XC_[0]),\" \\u03a9 \\u2220\", '{0:.3f}'.format(XC_[1]),\"\\u00b0\")\n",
    "print(\"BL             :\",'{0:.6e}'.format(BL_[0]),\"S \\u2220\", '{0:.3f}'.format(BL_[1]),\"\\u00b0\")\n",
    "print(\"BC             :\",'{0:.6e}'.format(BC_[0]),\"S \\u2220\", '{0:.3f}'.format(BC_[1]),\"\\u00b0\")\n",
    "print(\"YT             :\",'{0:.6e}'.format(YT_[0]),\"S \\u2220\", '{0:.3f}'.format(YT_[1]),\"\\u00b0\")\n",
    "print(\"ZT             :\",'{0:.6e}'.format(ZT_[0]),\"\\u03a9 \\u2220\", '{0:.3f}'.format(ZT_[1]),\"\\u00b0\")\n",
    "print(\"IL             :\",'{0:.6e}'.format(IL_[0]),\"A \\u2220\", '{0:.3f}'.format(IL_[1]),\"\\u00b0\")\n",
    "print(\"IC             :\",'{0:.6e}'.format(IC_[0]),\"A \\u2220\", '{0:.3f}'.format(IC_[1]),\"\\u00b0\")\n",
    "print(\"IT(Ohm's law)  :\",'{0:.6e}'.format(IT_[0]),\"A \\u2220\", '{0:.3f}'.format(IT_[1]),\"\\u00b0\")\n",
    "print(\"IT(branch sum) :\",'{0:.6e}'.format(IT_branch_sum_[0]),\"A \\u2220\", '{0:.3f}'.format(IT_branch_sum_[1]),\"\\u00b0\")"
   ]
  }
 ],
 "metadata": {
  "kernelspec": {
   "display_name": "Python 3",
   "language": "python",
   "name": "python3"
  },
  "language_info": {
   "codemirror_mode": {
    "name": "ipython",
    "version": 3
   },
   "file_extension": ".py",
   "mimetype": "text/x-python",
   "name": "python",
   "nbconvert_exporter": "python",
   "pygments_lexer": "ipython3",
   "version": "3.7.4"
  }
 },
 "nbformat": 4,
 "nbformat_minor": 4
}
